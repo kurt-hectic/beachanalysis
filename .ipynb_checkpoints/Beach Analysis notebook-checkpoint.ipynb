{
 "cells": [
  {
   "cell_type": "code",
   "execution_count": 60,
   "metadata": {
    "collapsed": true
   },
   "outputs": [],
   "source": [
    "from datetime import datetime \n",
    "import re\n",
    "import sqlite3\n",
    "import sys\n",
    "import numpy as np\n",
    "import pandas as pd"
   ]
  },
  {
   "cell_type": "markdown",
   "metadata": {},
   "source": [
    "import messages from textfile. Parse date,author, text (multiline) and message type. The textfile is created by exporting and emailing the chat conversation from the whatapp chat settings"
   ]
  },
  {
   "cell_type": "code",
   "execution_count": 61,
   "metadata": {
    "collapsed": true
   },
   "outputs": [],
   "source": [
    "with open('messages.txt', encoding='utf-8') as file:\n",
    "    content = file.readlines()\n",
    "    data = []\n",
    "    i=0\n",
    "    while i<len(content):\n",
    "        message = content[i]\n",
    "        j=0\n",
    "\n",
    "        while (i+j+1)<len(content) and not re.match('\\d{2}/\\d{2}/\\d{4}, \\d{2}:\\d{2} - ',content[i+j+1]):\n",
    "            messagecont = content[i+j+1]\n",
    "            #print(\"adding multiline {}\".format(messagecont))\n",
    "            message = \"{} {}\".format(message,messagecont)\n",
    "            i=i+1\n",
    "\n",
    "        i=i+j\n",
    "\n",
    "        p = message.find(' - ')\n",
    "        date = message[0:p-1].strip()\n",
    "        message = message[p+2:].strip()\n",
    "\n",
    "\n",
    "        dt = datetime.strptime(date,'%d/%m/%Y, %H:%M')\n",
    "        p = message.find(':')\n",
    "        if (p==-1):\n",
    "            system = True\n",
    "            author = \"system\"\n",
    "            message = message\n",
    "        else: \n",
    "            system = False\n",
    "            author = message[0:p].strip()\n",
    "            message = message[p+1:].strip()\n",
    "\n",
    "        #print(\"On {} {} wrote {}\".format(dt,author,message))\n",
    "        params = [dt,author,message,system]\n",
    "        data.append(params)\n",
    "        #c.execute(\"INSERT INTO messages (postdate,author,message,system) VALUES (?,?,?,?)\",params)\n",
    "\n",
    "\n",
    "        i=i+1"
   ]
  },
  {
   "cell_type": "code",
   "execution_count": 62,
   "metadata": {},
   "outputs": [],
   "source": [
    "df = pd.DataFrame(data, columns=['postdate','author','text','systemmessage']  )\n"
   ]
  },
  {
   "cell_type": "markdown",
   "metadata": {},
   "source": [
    "Who are the 10 most frequent chaters off all times?"
   ]
  },
  {
   "cell_type": "code",
   "execution_count": 63,
   "metadata": {},
   "outputs": [
    {
     "data": {
      "text/html": [
       "<div>\n",
       "<style>\n",
       "    .dataframe thead tr:only-child th {\n",
       "        text-align: right;\n",
       "    }\n",
       "\n",
       "    .dataframe thead th {\n",
       "        text-align: left;\n",
       "    }\n",
       "\n",
       "    .dataframe tbody tr th {\n",
       "        vertical-align: top;\n",
       "    }\n",
       "</style>\n",
       "<table border=\"1\" class=\"dataframe\">\n",
       "  <thead>\n",
       "    <tr style=\"text-align: right;\">\n",
       "      <th></th>\n",
       "      <th>postdate</th>\n",
       "      <th>text</th>\n",
       "      <th>systemmessage</th>\n",
       "    </tr>\n",
       "    <tr>\n",
       "      <th>author</th>\n",
       "      <th></th>\n",
       "      <th></th>\n",
       "      <th></th>\n",
       "    </tr>\n",
       "  </thead>\n",
       "  <tbody>\n",
       "    <tr>\n",
       "      <th>Timo</th>\n",
       "      <td>1288</td>\n",
       "      <td>1288</td>\n",
       "      <td>1288</td>\n",
       "    </tr>\n",
       "    <tr>\n",
       "      <th>Leandro Vb</th>\n",
       "      <td>740</td>\n",
       "      <td>740</td>\n",
       "      <td>740</td>\n",
       "    </tr>\n",
       "    <tr>\n",
       "      <th>Mirja Vb</th>\n",
       "      <td>658</td>\n",
       "      <td>658</td>\n",
       "      <td>658</td>\n",
       "    </tr>\n",
       "    <tr>\n",
       "      <th>system</th>\n",
       "      <td>518</td>\n",
       "      <td>518</td>\n",
       "      <td>518</td>\n",
       "    </tr>\n",
       "    <tr>\n",
       "      <th>Junior Vb</th>\n",
       "      <td>412</td>\n",
       "      <td>412</td>\n",
       "      <td>412</td>\n",
       "    </tr>\n",
       "    <tr>\n",
       "      <th>Desi Vb</th>\n",
       "      <td>375</td>\n",
       "      <td>375</td>\n",
       "      <td>375</td>\n",
       "    </tr>\n",
       "    <tr>\n",
       "      <th>Victor Barbe Vb</th>\n",
       "      <td>298</td>\n",
       "      <td>298</td>\n",
       "      <td>298</td>\n",
       "    </tr>\n",
       "    <tr>\n",
       "      <th>Antho Vb</th>\n",
       "      <td>296</td>\n",
       "      <td>296</td>\n",
       "      <td>296</td>\n",
       "    </tr>\n",
       "    <tr>\n",
       "      <th>Nico Vb</th>\n",
       "      <td>292</td>\n",
       "      <td>292</td>\n",
       "      <td>292</td>\n",
       "    </tr>\n",
       "    <tr>\n",
       "      <th>Jeff Vb</th>\n",
       "      <td>261</td>\n",
       "      <td>261</td>\n",
       "      <td>261</td>\n",
       "    </tr>\n",
       "  </tbody>\n",
       "</table>\n",
       "</div>"
      ],
      "text/plain": [
       "                 postdate  text  systemmessage\n",
       "author                                        \n",
       "Timo                 1288  1288           1288\n",
       "Leandro Vb            740   740            740\n",
       "Mirja Vb              658   658            658\n",
       "system                518   518            518\n",
       "Junior Vb             412   412            412\n",
       "Desi Vb               375   375            375\n",
       "Victor Barbe Vb       298   298            298\n",
       "Antho Vb              296   296            296\n",
       "Nico Vb               292   292            292\n",
       "Jeff Vb               261   261            261"
      ]
     },
     "execution_count": 63,
     "metadata": {},
     "output_type": "execute_result"
    }
   ],
   "source": [
    "df.groupby('author').count().sort_values('text',ascending=False).nlargest(10,'text')"
   ]
  },
  {
   "cell_type": "raw",
   "metadata": {},
   "source": [
    "Group growth over time"
   ]
  },
  {
   "cell_type": "code",
   "execution_count": 68,
   "metadata": {},
   "outputs": [
    {
     "data": {
      "text/plain": [
       "0         True\n",
       "1         True\n",
       "2         True\n",
       "3         True\n",
       "4         True\n",
       "5         True\n",
       "6         True\n",
       "7         True\n",
       "8         True\n",
       "9         True\n",
       "10        True\n",
       "11        True\n",
       "12       False\n",
       "13       False\n",
       "14       False\n",
       "15        True\n",
       "16        True\n",
       "17       False\n",
       "18        True\n",
       "19       False\n",
       "20        True\n",
       "21        True\n",
       "22        True\n",
       "23        True\n",
       "24        True\n",
       "25        True\n",
       "26        True\n",
       "27        True\n",
       "28       False\n",
       "29        True\n",
       "         ...  \n",
       "11768    False\n",
       "11769     True\n",
       "11770    False\n",
       "11771    False\n",
       "11772    False\n",
       "11773    False\n",
       "11774    False\n",
       "11775    False\n",
       "11776    False\n",
       "11777    False\n",
       "11778    False\n",
       "11779    False\n",
       "11780    False\n",
       "11781    False\n",
       "11782    False\n",
       "11783    False\n",
       "11784    False\n",
       "11785    False\n",
       "11786    False\n",
       "11787    False\n",
       "11788    False\n",
       "11789    False\n",
       "11790    False\n",
       "11791    False\n",
       "11792    False\n",
       "11793    False\n",
       "11794    False\n",
       "11795    False\n",
       "11796    False\n",
       "11797    False\n",
       "Name: systemmessage, Length: 11798, dtype: bool"
      ]
     },
     "execution_count": 68,
     "metadata": {},
     "output_type": "execute_result"
    }
   ],
   "source": [
    "df.loc[:,'systemmessage']"
   ]
  },
  {
   "cell_type": "code",
   "execution_count": null,
   "metadata": {
    "collapsed": true
   },
   "outputs": [],
   "source": []
  }
 ],
 "metadata": {
  "kernelspec": {
   "display_name": "Python 3",
   "language": "python",
   "name": "python3"
  },
  "language_info": {
   "codemirror_mode": {
    "name": "ipython",
    "version": 3
   },
   "file_extension": ".py",
   "mimetype": "text/x-python",
   "name": "python",
   "nbconvert_exporter": "python",
   "pygments_lexer": "ipython3",
   "version": "3.6.1"
  }
 },
 "nbformat": 4,
 "nbformat_minor": 2
}
